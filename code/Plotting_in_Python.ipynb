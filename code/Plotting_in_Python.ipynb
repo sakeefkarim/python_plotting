{
  "nbformat": 4,
  "nbformat_minor": 0,
  "metadata": {
    "colab": {
      "provenance": [],
      "toc_visible": true,
      "authorship_tag": "ABX9TyMJOcImtoaIrEa7JMmSHYZR",
      "include_colab_link": true
    },
    "kernelspec": {
      "name": "python3",
      "display_name": "Python 3"
    },
    "language_info": {
      "name": "python"
    }
  },
  "cells": [
    {
      "cell_type": "markdown",
      "metadata": {
        "id": "view-in-github",
        "colab_type": "text"
      },
      "source": [
        "<a href=\"https://colab.research.google.com/github/sakeefkarim/python_plotting/blob/main/code/Plotting_in_Python.ipynb\" target=\"_parent\"><img src=\"https://colab.research.google.com/assets/colab-badge.svg\" alt=\"Open In Colab\"/></a>"
      ]
    },
    {
      "cell_type": "markdown",
      "source": [
        "# Plotting in Python\n",
        "### An Introduction to `seaborn` and `plotnine`\n",
        "\n",
        "This notebook provides a _high-level_ overview of how to generate basic charts—from scatterplots to heatmaps—using the [`seaborn`](https://seaborn.pydata.org/) and [`plotnine`](https://plotnine.readthedocs.io/en/stable/) libraries in Python. Along the way, we’ll be using methods from [`pandas`](https://pandas.pydata.org/), [`matplotlib`](https://matplotlib.org/) and cognate libraries to modify our data, customize our plotting aesthetics and export our visualizations.\n"
      ],
      "metadata": {
        "id": "noW9gihyAARZ"
      }
    },
    {
      "cell_type": "markdown",
      "source": [
        "## Preliminaries\n",
        "\n",
        "As of December 2022, we'll need to upgrade `seaborn` on Google Colab to use the `seaborn.objects` interface. After upgrading the library, ***restart your runtime session***. You can then proceed with the rest of the notebook."
      ],
      "metadata": {
        "id": "8mFDveu5Aq3L"
      }
    },
    {
      "cell_type": "code",
      "source": [
        "!pip install seaborn --upgrade"
      ],
      "metadata": {
        "id": "GEVRz8JU_N2Y"
      },
      "execution_count": null,
      "outputs": []
    },
    {
      "cell_type": "markdown",
      "source": [
        "Let's load our *essential* packages:"
      ],
      "metadata": {
        "id": "Qav0rcTV-3SZ"
      }
    },
    {
      "cell_type": "code",
      "execution_count": null,
      "metadata": {
        "id": "3C-VyGWJ__hV"
      },
      "outputs": [],
      "source": [
        "import scipy as sp\n",
        "import pandas as pd\n",
        "import matplotlib as mpl\n",
        "import matplotlib.pyplot as plt\n",
        "import seaborn as sns\n",
        "import seaborn.objects as so"
      ]
    },
    {
      "cell_type": "markdown",
      "source": [
        "To [reiterate](https://colab.research.google.com/drive/17SWEs0aRX70KVKBbpjeBo8_Lyy5d8Elc?usp=sharing): we can _mount_ our Google Drive folders onto a Colab session to save plots, data sets and so on. To programmatically mount your Drive folder(s), run the following lines:"
      ],
      "metadata": {
        "id": "XBGCCkyoRiwU"
      }
    },
    {
      "cell_type": "code",
      "source": [
        "from google.colab import drive\n",
        "drive.mount('/drive')"
      ],
      "metadata": {
        "id": "CyXwFNVLRqHJ"
      },
      "execution_count": null,
      "outputs": []
    },
    {
      "cell_type": "markdown",
      "source": [
        "For this session, we'll be ***mostly*** playing around with data from [`palmerpenguins`](https://allisonhorst.github.io/palmerpenguins/) — a popular package for exploring, manipulating and visualizing data in `R`. We can easily import the `palmerpenguins` library [via Python](https://github.com/mcnakhaee/palmerpenguins) by either:\n",
        "\n",
        "- _Installiing_ a new library:"
      ],
      "metadata": {
        "id": "dvsQ34XSBaab"
      }
    },
    {
      "cell_type": "code",
      "source": [
        "!pip install palmerpenguins\n",
        "\n",
        "from palmerpenguins import load_penguins\n",
        "\n",
        "penguins = load_penguins()\n",
        "\n",
        "penguins.head()"
      ],
      "metadata": {
        "id": "tx8b-YEWR-kx"
      },
      "execution_count": null,
      "outputs": []
    },
    {
      "cell_type": "markdown",
      "source": [
        "- Loading the data set via `seaborn`:"
      ],
      "metadata": {
        "id": "_Qk419lw6B0H"
      }
    },
    {
      "cell_type": "code",
      "source": [
        "sns.load_dataset('penguins') \n",
        "\n",
        "# Note: the penguins dataframe in seaborn does *not* include the year variable!"
      ],
      "metadata": {
        "id": "9UibWQ676KsG"
      },
      "execution_count": null,
      "outputs": []
    },
    {
      "cell_type": "markdown",
      "source": [
        "Here's an example of how we can use another package (i.e., [`pyreadr`](https://pypi.org/project/pyreadr/)) to load data from `palmerpenguins` as an `.rds` file:"
      ],
      "metadata": {
        "id": "ldGUUL_BSVw8"
      }
    },
    {
      "cell_type": "code",
      "source": [
        "!pip install pyreadr\n",
        "\n",
        "import pyreadr\n",
        "\n",
        "url = 'https://github.com/sakeefkarim/python_plotting/blob/main/files/palmerpenguins.rds?raw=true'\n",
        "\n",
        "destination = '/drive/My Drive/Python/palmerpenguins.rds'\n",
        "\n",
        "pyreadr.download_file(url, destination)\n",
        "\n",
        "penguins_git = pyreadr.read_r(destination)\n",
        "\n",
        "# Checking to see which objects are available:\n",
        "\n",
        "print(penguins_git.keys()) \n",
        "\n",
        "# Only none, ergo:\n",
        "\n",
        "penguins_rds = penguins_git[None]"
      ],
      "metadata": {
        "id": "Cxoh7ZEZBZI7"
      },
      "execution_count": null,
      "outputs": []
    },
    {
      "cell_type": "markdown",
      "source": [
        "Of course, `pandas` contains inbuilt methods to import `.dta` (or `.sav`, `.sas` *etc.*) files: "
      ],
      "metadata": {
        "id": "U53W5So4ZrZp"
      }
    },
    {
      "cell_type": "code",
      "source": [
        "penguins_dta = pd.read_stata('https://github.com/sakeefkarim/python_plotting/blob/main/files/palmerpenguins.dta?raw=true')\n",
        "\n",
        "penguins_dta"
      ],
      "metadata": {
        "id": "TnJ_z6nfPArJ"
      },
      "execution_count": null,
      "outputs": []
    },
    {
      "cell_type": "markdown",
      "source": [
        "# `seaborn`"
      ],
      "metadata": {
        "id": "12MurFFMctn-"
      }
    },
    {
      "cell_type": "markdown",
      "source": [
        "## Exploratory Visualizations\n",
        "\n",
        "The `pairplot` function allows users to easily visualize pairwise associations between *all* the numeric variables in a data frame. This can be especially helpful for conducting [exploratory data analyses](https://www.datacamp.com/community/tutorials/exploratory-data-analysis-python)."
      ],
      "metadata": {
        "id": "q_MZxHg1dGrp"
      }
    },
    {
      "cell_type": "code",
      "source": [
        "# This unlocks seaborn's basic 'dark grid' theme:\n",
        "\n",
        "sns.set_theme()\n",
        "\n",
        "# Other seaborn themes: http://seaborn.pydata.org/tutorial/aesthetics.html#seaborn-figure-styles\n",
        "\n",
        "sns.pairplot(penguins)\n",
        "\n",
        "# The 'hue' parameter (for most seaborn functions) allows analysts to condition on a\n",
        "# variable of interest:\n",
        "\n",
        "# sns.pairplot(penguins, hue = 'island')\n",
        "\n",
        "sns.pairplot(penguins, hue = 'species')"
      ],
      "metadata": {
        "id": "HO-SrZmEdKFD"
      },
      "execution_count": null,
      "outputs": []
    },
    {
      "cell_type": "markdown",
      "source": [
        "## Basic Scatterplots\n",
        "\n",
        "As the cell below illustrates, we can use `matplotlib` functions in conjunction with `seaborn` to modify and export our visualizations."
      ],
      "metadata": {
        "id": "EFJsf38vdmSf"
      }
    },
    {
      "cell_type": "code",
      "source": [
        "mpl.style.use('fivethirtyeight')\n",
        "\n",
        "# Basic scatterplot\n",
        "\n",
        "p1 = sns.scatterplot(x = 'bill_depth_mm', y = 'bill_length_mm', \n",
        "                     hue = 'species', \n",
        "                     # For more seaborn palettes, see https://seaborn.pydata.org/tutorial/color_palettes.html.\n",
        "                     palette = 'pastel', \n",
        "                     # Size parameter:\n",
        "                     s = 60, \n",
        "                     # Transparency parameter:\n",
        "                     alpha = 0.8,\n",
        "                     data = penguins)\n",
        "\n",
        "p1.set_title('Bill Depth vs Bill Length for Different Penguin Species', \n",
        "             weight = 'bold')\n",
        "\n",
        "p1.set(xlabel='Bill Depth (mm)', \n",
        "       ylabel='Bill Length (mm)')\n",
        "\n",
        "plt.legend(loc='upper right', \n",
        "           # Two elements correspond to x and y coordinates:\n",
        "           bbox_to_anchor= (1.25, 1),\n",
        "           # Remove legend frame:\n",
        "           frameon=False, \n",
        "           borderaxespad=0)\n",
        "\n",
        "plt.savefig('/drive/My Drive/Python/penguin_fig1.png', \n",
        "            dpi = 300, \n",
        "            # Making sure the image isn't cropped!\n",
        "            bbox_inches='tight')\n",
        "\n",
        "plt.show()"
      ],
      "metadata": {
        "id": "lTi7QG7Ue-zv"
      },
      "execution_count": null,
      "outputs": []
    },
    {
      "cell_type": "markdown",
      "source": [
        "**Optional**: Below, you'll find supplemental code for modifying scales and formatting axis labels. To run the code, un-annotate the lines in the cell by removing the `#` sign."
      ],
      "metadata": {
        "id": "ptH4RwVbkjeD"
      }
    },
    {
      "cell_type": "code",
      "source": [
        "# import matplotlib.pylab as pylab\n",
        "\n",
        "# params = {'legend.fontsize': 'medium',\n",
        "#           'axes.labelsize': 'large',\n",
        "#           'axes.titlesize':'large',\n",
        "#           'xtick.labelsize':'medium',\n",
        "#           'ytick.labelsize':'medium'}\n",
        "\n",
        "# pylab.rcParams.update(params)\n",
        "\n",
        "# p1b = sns.scatterplot(x = 'bill_depth_mm', y = 'bill_length_mm', hue = 'island', data = penguins)\n",
        "\n",
        "# p1b.set_xscale('log')"
      ],
      "metadata": {
        "id": "_PQdRLUSkqmy"
      },
      "execution_count": null,
      "outputs": []
    },
    {
      "cell_type": "markdown",
      "source": [
        "### Adding Regression Lines to Scatterplots\n",
        "\n",
        "The `lmplot` function can be used to visualize linear relationships between variables. It can also map _interactions_ or spotlight conditional relationships (i.e., heterogeneous treatment effects) using faceted grids. "
      ],
      "metadata": {
        "id": "SaVVh_s2pQRF"
      }
    },
    {
      "cell_type": "code",
      "source": [
        "sns.set_theme()\n",
        "\n",
        "# Capitalizing sex in the data frame:\n",
        "\n",
        "penguins.sex = penguins.sex.str.capitalize()\n",
        "\n",
        "# Setting up the plot:\n",
        "\n",
        "p2 = sns.lmplot(x='bill_depth_mm', y='bill_length_mm', \n",
        "                hue = 'species',\n",
        "                # Unlocks facets/conditional panels:\n",
        "                col = 'sex',\n",
        "                # Equivalent to scales = free_x in ggplot:\n",
        "                facet_kws=dict(sharex=False),\n",
        "                data=penguins)\n",
        "\n",
        "# Removing the legend automatically generated via lmplot \n",
        "# (so we can use mpl functions to manipulate our legend instead):\n",
        "\n",
        "p2._legend.remove()\n",
        "\n",
        "# Removing the 'variable name =' text from facet panels:\n",
        "\n",
        "p2.set_titles('{col_name}')\n",
        "\n",
        "p2.set_axis_labels(x_var='Bill Depth (mm)', \n",
        "                   y_var='Bill Length (mm)')\n",
        "\n",
        "plt.legend(title='Species')\n",
        "\n",
        "plt.show()"
      ],
      "metadata": {
        "id": "a-Fp7BS3xmdP"
      },
      "execution_count": null,
      "outputs": []
    },
    {
      "cell_type": "markdown",
      "source": [
        "## Barplots\n",
        "\n",
        "In the example below, we'll generate a grouped horizontal barplot that maps variation in penguins' body mass _across_ species and illustrates how this variation ebbs and flows as a function of sex."
      ],
      "metadata": {
        "id": "iPxaolb4AhjV"
      }
    },
    {
      "cell_type": "code",
      "source": [
        "sns.set(style='ticks', palette='Set2')\n",
        "\n",
        "# Generating array corresponding to desired (alphabetical) x-axis order:\n",
        "\n",
        "order_plot = penguins['species'].sort_values().unique()\n",
        "\n",
        "p3 = sns.barplot(x='body_mass_g', y='species', \n",
        "                 # To create a grouped bar plot:\n",
        "                 hue = 'sex',\n",
        "                 # Removing confidence intervals ...\n",
        "                 errorbar = \"ci\",\n",
        "                 alpha = 0.9,\n",
        "                 hue_order = ['Female', 'Male'],\n",
        "                 order = order_plot,\n",
        "                 data=penguins)\n",
        "\n",
        "p3.set(xlabel='Body Mass (g)', ylabel='')\n",
        "\n",
        "plt.legend(loc='lower right', \n",
        "           bbox_to_anchor= (1.25, 0), \n",
        "           borderaxespad=0)"
      ],
      "metadata": {
        "id": "JD3ouQYcBHin"
      },
      "execution_count": null,
      "outputs": []
    },
    {
      "cell_type": "markdown",
      "source": [
        "## Boxplots\n",
        "\n",
        "Boxplots are a wonderful way to visualize distributions. Just as with barplots, manipulating your `x` and `y` arguments can help you iterate between vertical and horizontal (boxplot) representations of the same underlying data.\n"
      ],
      "metadata": {
        "id": "MxmT5EslC5ip"
      }
    },
    {
      "cell_type": "code",
      "source": [
        "mpl.style.use('ggplot')\n",
        "\n",
        "# Changing our body mass measure to kg in lieu of g:\n",
        "\n",
        "penguins['body_mass_kg'] = penguins.body_mass_g/1000\n",
        "\n",
        "p4 = sns.boxplot(y='body_mass_kg', x='species', data=penguins,\n",
        "                 width=0.5, \n",
        "                 hue = 'sex',\n",
        "                 palette='Set2',\n",
        "                 order = order_plot)\n",
        "\n",
        "p4.set(xlabel='Body Mass (kg)', ylabel='')\n",
        "\n",
        "plt.legend(title = '')"
      ],
      "metadata": {
        "id": "60J8p8XRDRFp"
      },
      "execution_count": null,
      "outputs": []
    },
    {
      "cell_type": "markdown",
      "source": [
        "## Other Ways to Plot Distributions"
      ],
      "metadata": {
        "id": "hpfDrq-4Eg5j"
      }
    },
    {
      "cell_type": "markdown",
      "source": [
        "### Violin Plots"
      ],
      "metadata": {
        "id": "dy99-q-XGcAr"
      }
    },
    {
      "cell_type": "code",
      "source": [
        "sns.set_theme()\n",
        "\n",
        "sns.violinplot(x='body_mass_kg', y='species', hue='sex',\n",
        "               split = True,\n",
        "               data=penguins)"
      ],
      "metadata": {
        "id": "IcllChUjGGgS"
      },
      "execution_count": null,
      "outputs": []
    },
    {
      "cell_type": "markdown",
      "source": [
        "### Histograms"
      ],
      "metadata": {
        "id": "hJscz9yQGRgi"
      }
    },
    {
      "cell_type": "code",
      "source": [
        "sns.set_theme(style = 'whitegrid')\n",
        "\n",
        "sns.histplot(x='body_mass_kg',\n",
        "             hue = 'species',\n",
        "             hue_order = order_plot,\n",
        "             multiple = 'dodge',\n",
        "             linewidth=.05, data = penguins)\n",
        "\n",
        "sns.displot(x= 'body_mass_kg', \n",
        "            hue='species',\n",
        "            kind='hist', \n",
        "            multiple='layer',\n",
        "            palette = 'pastel',\n",
        "            data = penguins)"
      ],
      "metadata": {
        "id": "HfpUWY2QGdZM"
      },
      "execution_count": null,
      "outputs": []
    },
    {
      "cell_type": "markdown",
      "source": [
        "### Joint Plots"
      ],
      "metadata": {
        "id": "3YWee2t0HRt0"
      }
    },
    {
      "cell_type": "code",
      "source": [
        "mpl.style.use('fivethirtyeight')\n",
        "\n",
        "sns.jointplot(x = 'body_mass_kg', y = 'bill_length_mm', \n",
        "              hue = 'species', \n",
        "              palette = 'pastel',\n",
        "              s = 80,\n",
        "              data = penguins)"
      ],
      "metadata": {
        "id": "-mXX6Rf6HUUy"
      },
      "execution_count": null,
      "outputs": []
    },
    {
      "cell_type": "markdown",
      "source": [
        "### Density Plots"
      ],
      "metadata": {
        "id": "529tYX6UHy_S"
      }
    },
    {
      "cell_type": "code",
      "source": [
        "sns.set_theme()\n",
        "\n",
        "sns.displot(x= 'body_mass_kg', \n",
        "            hue='species',\n",
        "            #Kernel Density Estimate\n",
        "            kind='kde', \n",
        "            alpha = 0.5,\n",
        "            multiple = 'fill',\n",
        "            palette = 'pastel',\n",
        "            data = penguins)"
      ],
      "metadata": {
        "id": "7Xca9zOKIRNn"
      },
      "execution_count": null,
      "outputs": []
    },
    {
      "cell_type": "markdown",
      "source": [
        "## Visualizing Time-Varying Data\n",
        "\n",
        "While our `penguins` data frame _does_ have time-varying data, we're limited to three time points:\n"
      ],
      "metadata": {
        "id": "otkrRu_0IoF8"
      }
    },
    {
      "cell_type": "code",
      "source": [
        "#Share of observations by 'year':\n",
        "\n",
        "penguins['year'].value_counts(normalize=True)"
      ],
      "metadata": {
        "id": "7TgGXzwYI8Na"
      },
      "execution_count": null,
      "outputs": []
    },
    {
      "cell_type": "markdown",
      "source": [
        "As a result, we'll *briefly* leverage another data frame that's often used to introduce students to data visualizations in `R`: [`gapminder`](https://www.rdocumentation.org/packages/gapminder/versions/0.3.0)!"
      ],
      "metadata": {
        "id": "B0x7Jmb-LejV"
      }
    },
    {
      "cell_type": "code",
      "source": [
        "gapminder = pd.read_excel('https://github.com/sakeefkarim/python_plotting/blob/main/files/gapminder.xlsx?raw=true')"
      ],
      "metadata": {
        "id": "wtYAu74HMJhn"
      },
      "execution_count": null,
      "outputs": []
    },
    {
      "cell_type": "markdown",
      "source": [
        "### Line Plots\n",
        "\n",
        "Let's explore how life expectancy (i.e., `lifeExp`) has evolved over time across continents:"
      ],
      "metadata": {
        "id": "yJn3ozl3Nloo"
      }
    },
    {
      "cell_type": "code",
      "source": [
        "# Removing Oceania (few observations):\n",
        "\n",
        "gapminder['continent'].value_counts(normalize=True)\n",
        "\n",
        "gapminder = gapminder[gapminder.continent != 'Oceania']\n",
        "\n",
        "# Ensuring that continents appear in alphabetical order:\n",
        "\n",
        "continent_order = gapminder['continent'].sort_values().unique()\n",
        "\n",
        "# Grouped line plot:\n",
        "\n",
        "sns.lineplot(x='year', y='lifeExp', \n",
        "             hue = 'continent',\n",
        "             hue_order = continent_order,\n",
        "             data = gapminder)\n",
        "\n",
        "plt.xlabel('Year', fontsize=13)\n",
        "\n",
        "plt.ylabel('Life Expectancy', fontsize=13)\n",
        "\n",
        "\n",
        "# Facets:\n",
        "\n",
        "p6 = sns.relplot(x='year', y='lifeExp', \n",
        "                 col='continent', \n",
        "                 col_order = continent_order,\n",
        "                 col_wrap = 2,\n",
        "                 kind='line', \n",
        "                 palette='Set2',\n",
        "                 color = '#AA336A',\n",
        "                 data = gapminder)\n",
        "\n",
        "p6.set_titles('{col_name}')"
      ],
      "metadata": {
        "id": "hgK8U5i6N6Cn"
      },
      "execution_count": null,
      "outputs": []
    },
    {
      "cell_type": "markdown",
      "source": [
        "### Heatmaps\n",
        "\n",
        "To generate a heatmap in `seaborn`, let's modify our input data frame by:\n",
        "\n",
        "+ Isolating countries in the Americas.\n",
        "+ Isolating the following variables: `country`, `year` and `lifeExp`.\n",
        "+ Reshaping our data from long to wide using the `pivot` method."
      ],
      "metadata": {
        "id": "IGu3ol9OIr3o"
      }
    },
    {
      "cell_type": "code",
      "source": [
        "# Isolating countries in the Americas:\n",
        "\n",
        "gapminder_adj = gapminder[ gapminder['continent'] == 'Americas']\n",
        "\n",
        "# Zeroing-in on variables of interest:\n",
        "\n",
        "gapminder_adj = gapminder_adj[['country', 'year', 'lifeExp']]\n",
        "\n",
        "# Pivoting to wide format\n",
        "\n",
        "gapminder_adj = gapminder_adj.pivot(index = 'country', columns = 'year', values = 'lifeExp')\n",
        "\n",
        "gapminder_adj.head()"
      ],
      "metadata": {
        "id": "565ft1S_Mpux"
      },
      "execution_count": null,
      "outputs": []
    },
    {
      "cell_type": "markdown",
      "source": [
        "With these modifications in place, let's generate a quick heatmap that captures how life expectancy in the Americas has changed over time:"
      ],
      "metadata": {
        "id": "9mgI0SguM6XF"
      }
    },
    {
      "cell_type": "code",
      "source": [
        "mpl.style.use('fivethirtyeight')\n",
        "\n",
        "p5 = sns.heatmap(gapminder_adj, \n",
        "                 linewidths =0.5, \n",
        "                 # Includes all y-tick labels:\n",
        "                 yticklabels=True,\n",
        "                 square=True)\n",
        "\n",
        "# Rotates x-axis labels (to enhance legibility):\n",
        "\n",
        "plt.xticks(rotation=30) \n",
        "\n",
        "p5.set(xlabel='', ylabel='')\n",
        "\n",
        "p5.set_title('Life Expectancy in the Americas', \n",
        "             size = 18,\n",
        "             weight = 'bold')\n",
        "\n",
        "# Changing the plot's dimensions:\n",
        "\n",
        "plt.gcf().set_size_inches(15, 10)\n",
        "\n",
        "plt.savefig('/drive/My Drive/Python/new_heatmap.png', bbox_inches='tight', dpi = 300)"
      ],
      "metadata": {
        "id": "NOSs3xxhM87q"
      },
      "execution_count": null,
      "outputs": []
    },
    {
      "cell_type": "markdown",
      "source": [
        "## `seaborn`'s Object Interface\n",
        "\n",
        "In September of 2022, `seaborn`'s developers introduced a new [`seaborn.objects`](https://seaborn.pydata.org/tutorial/objects_interface.html) interface to bring the *grammar of graphics* into the `seaborn` ecosystem. However, `seaborn.objects` is very much in its infancy.\n",
        "\n",
        "In the sections below, we'll quickly touch on how to generate scatterplots, barplots and line plots using this new interface. As you work your way down the next few sections of this notebook, make sure to un-annotate lines of code to add _layers_ to your plot objects."
      ],
      "metadata": {
        "id": "HYz6piLjP0N_"
      }
    },
    {
      "cell_type": "markdown",
      "source": [
        "### Scatterplots"
      ],
      "metadata": {
        "id": "Wn1HXP3ASDdg"
      }
    },
    {
      "cell_type": "code",
      "source": [
        "(\n",
        "    so.Plot(penguins, x = 'body_mass_kg', y = 'bill_length_mm', color = 'species')\n",
        "    #.add(so.Dot(alpha = 0.4, pointsize=7))\n",
        "    #.label(x='Body Mass (kg)', y='Bill Length (mm)', color='')\n",
        "    #.scale(color=so.Nominal(order = ['Adelie', 'Chinstrap', 'Gentoo']))\n",
        "    #.facet('sex')\n",
        "    #.share(x=True, y = True)\n",
        "    #.add(so.Line(linewidth=3.5, alpha =0.8), so.PolyFit())\n",
        "    #.layout(size=(10, 5)) #width, height\n",
        "    #.save('/drive/My Drive/Python/penguin_fig2.png', bbox_inches='tight', dpi = 300)\n",
        ")"
      ],
      "metadata": {
        "id": "vKTh-9-iS3HO"
      },
      "execution_count": null,
      "outputs": []
    },
    {
      "cell_type": "markdown",
      "source": [
        "### Barplots"
      ],
      "metadata": {
        "id": "xO4T5XkUeznd"
      }
    },
    {
      "cell_type": "code",
      "source": [
        "(\n",
        "     so.Plot(penguins, 'year', color='species')\n",
        "    #.scale(x=so.Nominal(), color=so.Nominal(order = order_plot))\n",
        "    #.add(so.Bar(), so.Count(), so.Dodge(gap = 0.05))\n",
        "    #.label(x='', color=str.capitalize)\n",
        "    #.layout(size=(7, 5)) \n",
        ")"
      ],
      "metadata": {
        "id": "9HUYgw9mggiK"
      },
      "execution_count": null,
      "outputs": []
    },
    {
      "cell_type": "markdown",
      "source": [
        "### Line Plots"
      ],
      "metadata": {
        "id": "PQf4B1FokoZm"
      }
    },
    {
      "cell_type": "code",
      "source": [
        "from seaborn import axes_style\n",
        "\n",
        "(\n",
        "    so.Plot(gapminder, x='year', y='lifeExp')\n",
        "    #.facet('continent', wrap = 2, order = continent_order)\n",
        "    #.add(so.Line(alpha=.35, color = 'grey', linestyle = '--'), so.Agg('median'), group='continent', col=None)\n",
        "    #.add(so.Line(color = 'black', linewidth = 3), so.Agg('median'))\n",
        "    #.label(y = 'Life Expectancy', x = str.capitalize)\n",
        "    #.theme({**axes_style('ticks')})\n",
        ")"
      ],
      "metadata": {
        "id": "fgAF4iNUkrxK"
      },
      "execution_count": null,
      "outputs": []
    },
    {
      "cell_type": "markdown",
      "source": [
        "# `plotnine`\n",
        "\n",
        "The [`plotnine`](https://plotnine.readthedocs.io/en/stable/) library allows Python users to (essentially) use `ggplot2` within Python. In lieu of providing exhaustive examples,<a name='cite_ref-1'></a>[<sup>[1]</sup>](#cite_note-1)  I'll once again walk throughnsome basic plotting options: i.e., scatterplots, barplots and line plots."
      ],
      "metadata": {
        "id": "OO7WurjdrbJu"
      }
    },
    {
      "cell_type": "markdown",
      "source": [
        "## Scatterplots"
      ],
      "metadata": {
        "id": "0H_wtY8ps8_I"
      }
    },
    {
      "cell_type": "code",
      "source": [
        "from plotnine import *\n",
        "\n",
        "gg_p1 = (\n",
        "          ggplot(penguins, aes(x = 'body_mass_kg', y = 'bill_length_mm', colour = 'species')) + \n",
        "          geom_point(size = 4, alpha = 0.5) +\n",
        "          theme_minimal() +\n",
        "          theme(legend_position = 'top',\n",
        "                axis_title = element_text(size = 12)) +\n",
        "          labs(x = 'Body Mass (kg)', y = 'Bill Length (mm)', colour = '') +\n",
        "          scale_colour_brewer(type = 'qual', palette = 'Dark2')\n",
        "          )\n",
        "\n",
        "ggsave(gg_p1, '/drive/My Drive/Python/penguin_fig3.png', dpi = 300)\n",
        "\n",
        "# Adding facets\n",
        "\n",
        "gg_p1 + facet_wrap('~year')"
      ],
      "metadata": {
        "id": "ScA8lWfNtEFk"
      },
      "execution_count": null,
      "outputs": []
    },
    {
      "cell_type": "markdown",
      "source": [
        "## Barplots"
      ],
      "metadata": {
        "id": "Ub0R205mw29I"
      }
    },
    {
      "cell_type": "code",
      "source": [
        "penguins.dropna(inplace=True)\n",
        "\n",
        "(\n",
        "ggplot(penguins, aes(x = 'species', y = 'body_mass_kg', fill = 'sex')) + \n",
        "geom_col(position = 'dodge', width = 0.5) + \n",
        "labs(x = '', y = 'Body Mass (kg)', fill = '') +\n",
        "coord_flip() +\n",
        "theme_bw() + facet_wrap('~year') +\n",
        "scale_fill_grey()\n",
        ")"
      ],
      "metadata": {
        "id": "JJOoGvfVw5vw"
      },
      "execution_count": null,
      "outputs": []
    },
    {
      "cell_type": "markdown",
      "source": [
        "## Line Plots"
      ],
      "metadata": {
        "id": "ej2sz29oy6VM"
      }
    },
    {
      "cell_type": "code",
      "source": [
        "gapminder_grouped = gapminder.groupby(['continent', 'year']).median().reset_index()\n",
        "\n",
        "(\n",
        "ggplot(gapminder_grouped, aes(x = 'year', y = 'lifeExp', colour = 'continent')) + \n",
        " geom_line(size = 2) +\n",
        " theme_minimal() +\n",
        " facet_wrap('continent') +\n",
        " theme(legend_position = 'none') +\n",
        " labs(x = '', y = 'Life Expectancy') +\n",
        " scale_colour_brewer(type = 'qual', palette = 'Dark2')\n",
        "\n",
        ")"
      ],
      "metadata": {
        "id": "GtSbr8lTy9e-"
      },
      "execution_count": null,
      "outputs": []
    },
    {
      "cell_type": "markdown",
      "source": [
        "<a name='cite_note-1'></a>1. [^](#cite_ref-1) You all know quite a bit about `ggplot2` already!"
      ],
      "metadata": {
        "id": "5RZqugR_szlm"
      }
    }
  ]
}